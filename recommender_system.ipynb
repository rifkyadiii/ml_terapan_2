{
 "cells": [
  {
   "cell_type": "markdown",
   "metadata": {},
   "source": [
    "## Import Library"
   ]
  },
  {
   "cell_type": "code",
   "execution_count": 274,
   "metadata": {},
   "outputs": [],
   "source": [
    "import pandas as pd\n",
    "import numpy as np\n",
    "from sklearn.feature_extraction.text import TfidfVectorizer\n",
    "from sklearn.metrics.pairwise import cosine_similarity\n",
    "from sklearn.decomposition import TruncatedSVD\n",
    "from sklearn.model_selection import train_test_split\n",
    "from sklearn.metrics import mean_squared_error, mean_absolute_error\n",
    "from math import sqrt\n",
    "import matplotlib.pyplot as plt\n",
    "import seaborn as sns\n",
    "import warnings\n",
    "warnings.filterwarnings('ignore')"
   ]
  },
  {
   "cell_type": "markdown",
   "metadata": {},
   "source": [
    "## Data Loading"
   ]
  },
  {
   "cell_type": "code",
   "execution_count": 275,
   "metadata": {},
   "outputs": [],
   "source": [
    "# Membaca data ratings\n",
    "ratings_cols = ['user_id', 'item_id', 'rating', 'timestamp']\n",
    "ratings = pd.read_csv('dataset/u.data', sep='\\t', names=ratings_cols, encoding='latin-1')"
   ]
  },
  {
   "cell_type": "code",
   "execution_count": 276,
   "metadata": {},
   "outputs": [
    {
     "data": {
      "text/html": [
       "<div>\n",
       "<style scoped>\n",
       "    .dataframe tbody tr th:only-of-type {\n",
       "        vertical-align: middle;\n",
       "    }\n",
       "\n",
       "    .dataframe tbody tr th {\n",
       "        vertical-align: top;\n",
       "    }\n",
       "\n",
       "    .dataframe thead th {\n",
       "        text-align: right;\n",
       "    }\n",
       "</style>\n",
       "<table border=\"1\" class=\"dataframe\">\n",
       "  <thead>\n",
       "    <tr style=\"text-align: right;\">\n",
       "      <th></th>\n",
       "      <th>user_id</th>\n",
       "      <th>item_id</th>\n",
       "      <th>rating</th>\n",
       "      <th>timestamp</th>\n",
       "    </tr>\n",
       "  </thead>\n",
       "  <tbody>\n",
       "    <tr>\n",
       "      <th>0</th>\n",
       "      <td>196</td>\n",
       "      <td>242</td>\n",
       "      <td>3</td>\n",
       "      <td>881250949</td>\n",
       "    </tr>\n",
       "    <tr>\n",
       "      <th>1</th>\n",
       "      <td>186</td>\n",
       "      <td>302</td>\n",
       "      <td>3</td>\n",
       "      <td>891717742</td>\n",
       "    </tr>\n",
       "    <tr>\n",
       "      <th>2</th>\n",
       "      <td>22</td>\n",
       "      <td>377</td>\n",
       "      <td>1</td>\n",
       "      <td>878887116</td>\n",
       "    </tr>\n",
       "    <tr>\n",
       "      <th>3</th>\n",
       "      <td>244</td>\n",
       "      <td>51</td>\n",
       "      <td>2</td>\n",
       "      <td>880606923</td>\n",
       "    </tr>\n",
       "    <tr>\n",
       "      <th>4</th>\n",
       "      <td>166</td>\n",
       "      <td>346</td>\n",
       "      <td>1</td>\n",
       "      <td>886397596</td>\n",
       "    </tr>\n",
       "  </tbody>\n",
       "</table>\n",
       "</div>"
      ],
      "text/plain": [
       "   user_id  item_id  rating  timestamp\n",
       "0      196      242       3  881250949\n",
       "1      186      302       3  891717742\n",
       "2       22      377       1  878887116\n",
       "3      244       51       2  880606923\n",
       "4      166      346       1  886397596"
      ]
     },
     "execution_count": 276,
     "metadata": {},
     "output_type": "execute_result"
    }
   ],
   "source": [
    "ratings.head()"
   ]
  },
  {
   "cell_type": "code",
   "execution_count": 277,
   "metadata": {},
   "outputs": [],
   "source": [
    "# Membaca data movies  \n",
    "movies_cols = ['movie_id', 'title', 'release_date', 'video_release_date', 'imdb_url']\n",
    "genres = ['unknown', 'Action', 'Adventure', 'Animation', 'Children', 'Comedy', 'Crime',\n",
    "          'Documentary', 'Drama', 'Fantasy', 'Film-Noir', 'Horror', 'Musical', 'Mystery',\n",
    "          'Romance', 'Sci-Fi', 'Thriller', 'War', 'Western']\n",
    "movies_cols.extend(genres)\n",
    "movies = pd.read_csv('dataset/u.item', sep='|', names=movies_cols, encoding='latin-1')"
   ]
  },
  {
   "cell_type": "code",
   "execution_count": 278,
   "metadata": {},
   "outputs": [
    {
     "data": {
      "text/html": [
       "<div>\n",
       "<style scoped>\n",
       "    .dataframe tbody tr th:only-of-type {\n",
       "        vertical-align: middle;\n",
       "    }\n",
       "\n",
       "    .dataframe tbody tr th {\n",
       "        vertical-align: top;\n",
       "    }\n",
       "\n",
       "    .dataframe thead th {\n",
       "        text-align: right;\n",
       "    }\n",
       "</style>\n",
       "<table border=\"1\" class=\"dataframe\">\n",
       "  <thead>\n",
       "    <tr style=\"text-align: right;\">\n",
       "      <th></th>\n",
       "      <th>movie_id</th>\n",
       "      <th>title</th>\n",
       "      <th>release_date</th>\n",
       "      <th>video_release_date</th>\n",
       "      <th>imdb_url</th>\n",
       "      <th>unknown</th>\n",
       "      <th>Action</th>\n",
       "      <th>Adventure</th>\n",
       "      <th>Animation</th>\n",
       "      <th>Children</th>\n",
       "      <th>...</th>\n",
       "      <th>Fantasy</th>\n",
       "      <th>Film-Noir</th>\n",
       "      <th>Horror</th>\n",
       "      <th>Musical</th>\n",
       "      <th>Mystery</th>\n",
       "      <th>Romance</th>\n",
       "      <th>Sci-Fi</th>\n",
       "      <th>Thriller</th>\n",
       "      <th>War</th>\n",
       "      <th>Western</th>\n",
       "    </tr>\n",
       "  </thead>\n",
       "  <tbody>\n",
       "    <tr>\n",
       "      <th>0</th>\n",
       "      <td>1</td>\n",
       "      <td>Toy Story (1995)</td>\n",
       "      <td>01-Jan-1995</td>\n",
       "      <td>NaN</td>\n",
       "      <td>http://us.imdb.com/M/title-exact?Toy%20Story%2...</td>\n",
       "      <td>0</td>\n",
       "      <td>0</td>\n",
       "      <td>0</td>\n",
       "      <td>1</td>\n",
       "      <td>1</td>\n",
       "      <td>...</td>\n",
       "      <td>0</td>\n",
       "      <td>0</td>\n",
       "      <td>0</td>\n",
       "      <td>0</td>\n",
       "      <td>0</td>\n",
       "      <td>0</td>\n",
       "      <td>0</td>\n",
       "      <td>0</td>\n",
       "      <td>0</td>\n",
       "      <td>0</td>\n",
       "    </tr>\n",
       "    <tr>\n",
       "      <th>1</th>\n",
       "      <td>2</td>\n",
       "      <td>GoldenEye (1995)</td>\n",
       "      <td>01-Jan-1995</td>\n",
       "      <td>NaN</td>\n",
       "      <td>http://us.imdb.com/M/title-exact?GoldenEye%20(...</td>\n",
       "      <td>0</td>\n",
       "      <td>1</td>\n",
       "      <td>1</td>\n",
       "      <td>0</td>\n",
       "      <td>0</td>\n",
       "      <td>...</td>\n",
       "      <td>0</td>\n",
       "      <td>0</td>\n",
       "      <td>0</td>\n",
       "      <td>0</td>\n",
       "      <td>0</td>\n",
       "      <td>0</td>\n",
       "      <td>0</td>\n",
       "      <td>1</td>\n",
       "      <td>0</td>\n",
       "      <td>0</td>\n",
       "    </tr>\n",
       "    <tr>\n",
       "      <th>2</th>\n",
       "      <td>3</td>\n",
       "      <td>Four Rooms (1995)</td>\n",
       "      <td>01-Jan-1995</td>\n",
       "      <td>NaN</td>\n",
       "      <td>http://us.imdb.com/M/title-exact?Four%20Rooms%...</td>\n",
       "      <td>0</td>\n",
       "      <td>0</td>\n",
       "      <td>0</td>\n",
       "      <td>0</td>\n",
       "      <td>0</td>\n",
       "      <td>...</td>\n",
       "      <td>0</td>\n",
       "      <td>0</td>\n",
       "      <td>0</td>\n",
       "      <td>0</td>\n",
       "      <td>0</td>\n",
       "      <td>0</td>\n",
       "      <td>0</td>\n",
       "      <td>1</td>\n",
       "      <td>0</td>\n",
       "      <td>0</td>\n",
       "    </tr>\n",
       "    <tr>\n",
       "      <th>3</th>\n",
       "      <td>4</td>\n",
       "      <td>Get Shorty (1995)</td>\n",
       "      <td>01-Jan-1995</td>\n",
       "      <td>NaN</td>\n",
       "      <td>http://us.imdb.com/M/title-exact?Get%20Shorty%...</td>\n",
       "      <td>0</td>\n",
       "      <td>1</td>\n",
       "      <td>0</td>\n",
       "      <td>0</td>\n",
       "      <td>0</td>\n",
       "      <td>...</td>\n",
       "      <td>0</td>\n",
       "      <td>0</td>\n",
       "      <td>0</td>\n",
       "      <td>0</td>\n",
       "      <td>0</td>\n",
       "      <td>0</td>\n",
       "      <td>0</td>\n",
       "      <td>0</td>\n",
       "      <td>0</td>\n",
       "      <td>0</td>\n",
       "    </tr>\n",
       "    <tr>\n",
       "      <th>4</th>\n",
       "      <td>5</td>\n",
       "      <td>Copycat (1995)</td>\n",
       "      <td>01-Jan-1995</td>\n",
       "      <td>NaN</td>\n",
       "      <td>http://us.imdb.com/M/title-exact?Copycat%20(1995)</td>\n",
       "      <td>0</td>\n",
       "      <td>0</td>\n",
       "      <td>0</td>\n",
       "      <td>0</td>\n",
       "      <td>0</td>\n",
       "      <td>...</td>\n",
       "      <td>0</td>\n",
       "      <td>0</td>\n",
       "      <td>0</td>\n",
       "      <td>0</td>\n",
       "      <td>0</td>\n",
       "      <td>0</td>\n",
       "      <td>0</td>\n",
       "      <td>1</td>\n",
       "      <td>0</td>\n",
       "      <td>0</td>\n",
       "    </tr>\n",
       "  </tbody>\n",
       "</table>\n",
       "<p>5 rows × 24 columns</p>\n",
       "</div>"
      ],
      "text/plain": [
       "   movie_id              title release_date  video_release_date  \\\n",
       "0         1   Toy Story (1995)  01-Jan-1995                 NaN   \n",
       "1         2   GoldenEye (1995)  01-Jan-1995                 NaN   \n",
       "2         3  Four Rooms (1995)  01-Jan-1995                 NaN   \n",
       "3         4  Get Shorty (1995)  01-Jan-1995                 NaN   \n",
       "4         5     Copycat (1995)  01-Jan-1995                 NaN   \n",
       "\n",
       "                                            imdb_url  unknown  Action  \\\n",
       "0  http://us.imdb.com/M/title-exact?Toy%20Story%2...        0       0   \n",
       "1  http://us.imdb.com/M/title-exact?GoldenEye%20(...        0       1   \n",
       "2  http://us.imdb.com/M/title-exact?Four%20Rooms%...        0       0   \n",
       "3  http://us.imdb.com/M/title-exact?Get%20Shorty%...        0       1   \n",
       "4  http://us.imdb.com/M/title-exact?Copycat%20(1995)        0       0   \n",
       "\n",
       "   Adventure  Animation  Children  ...  Fantasy  Film-Noir  Horror  Musical  \\\n",
       "0          0          1         1  ...        0          0       0        0   \n",
       "1          1          0         0  ...        0          0       0        0   \n",
       "2          0          0         0  ...        0          0       0        0   \n",
       "3          0          0         0  ...        0          0       0        0   \n",
       "4          0          0         0  ...        0          0       0        0   \n",
       "\n",
       "   Mystery  Romance  Sci-Fi  Thriller  War  Western  \n",
       "0        0        0       0         0    0        0  \n",
       "1        0        0       0         1    0        0  \n",
       "2        0        0       0         1    0        0  \n",
       "3        0        0       0         0    0        0  \n",
       "4        0        0       0         1    0        0  \n",
       "\n",
       "[5 rows x 24 columns]"
      ]
     },
     "execution_count": 278,
     "metadata": {},
     "output_type": "execute_result"
    }
   ],
   "source": [
    "movies.head()"
   ]
  },
  {
   "cell_type": "markdown",
   "metadata": {},
   "source": [
    "## Data Understanding"
   ]
  },
  {
   "cell_type": "code",
   "execution_count": 279,
   "metadata": {},
   "outputs": [
    {
     "name": "stdout",
     "output_type": "stream",
     "text": [
      "<class 'pandas.core.frame.DataFrame'>\n",
      "RangeIndex: 100000 entries, 0 to 99999\n",
      "Data columns (total 4 columns):\n",
      " #   Column     Non-Null Count   Dtype\n",
      "---  ------     --------------   -----\n",
      " 0   user_id    100000 non-null  int64\n",
      " 1   item_id    100000 non-null  int64\n",
      " 2   rating     100000 non-null  int64\n",
      " 3   timestamp  100000 non-null  int64\n",
      "dtypes: int64(4)\n",
      "memory usage: 3.1 MB\n"
     ]
    }
   ],
   "source": [
    "ratings.info()"
   ]
  },
  {
   "cell_type": "code",
   "execution_count": 280,
   "metadata": {},
   "outputs": [
    {
     "data": {
      "text/html": [
       "<div>\n",
       "<style scoped>\n",
       "    .dataframe tbody tr th:only-of-type {\n",
       "        vertical-align: middle;\n",
       "    }\n",
       "\n",
       "    .dataframe tbody tr th {\n",
       "        vertical-align: top;\n",
       "    }\n",
       "\n",
       "    .dataframe thead th {\n",
       "        text-align: right;\n",
       "    }\n",
       "</style>\n",
       "<table border=\"1\" class=\"dataframe\">\n",
       "  <thead>\n",
       "    <tr style=\"text-align: right;\">\n",
       "      <th></th>\n",
       "      <th>user_id</th>\n",
       "      <th>item_id</th>\n",
       "      <th>rating</th>\n",
       "      <th>timestamp</th>\n",
       "    </tr>\n",
       "  </thead>\n",
       "  <tbody>\n",
       "    <tr>\n",
       "      <th>count</th>\n",
       "      <td>100000.00000</td>\n",
       "      <td>100000.000000</td>\n",
       "      <td>100000.000000</td>\n",
       "      <td>1.000000e+05</td>\n",
       "    </tr>\n",
       "    <tr>\n",
       "      <th>mean</th>\n",
       "      <td>462.48475</td>\n",
       "      <td>425.530130</td>\n",
       "      <td>3.529860</td>\n",
       "      <td>8.835289e+08</td>\n",
       "    </tr>\n",
       "    <tr>\n",
       "      <th>std</th>\n",
       "      <td>266.61442</td>\n",
       "      <td>330.798356</td>\n",
       "      <td>1.125674</td>\n",
       "      <td>5.343856e+06</td>\n",
       "    </tr>\n",
       "    <tr>\n",
       "      <th>min</th>\n",
       "      <td>1.00000</td>\n",
       "      <td>1.000000</td>\n",
       "      <td>1.000000</td>\n",
       "      <td>8.747247e+08</td>\n",
       "    </tr>\n",
       "    <tr>\n",
       "      <th>25%</th>\n",
       "      <td>254.00000</td>\n",
       "      <td>175.000000</td>\n",
       "      <td>3.000000</td>\n",
       "      <td>8.794487e+08</td>\n",
       "    </tr>\n",
       "    <tr>\n",
       "      <th>50%</th>\n",
       "      <td>447.00000</td>\n",
       "      <td>322.000000</td>\n",
       "      <td>4.000000</td>\n",
       "      <td>8.828269e+08</td>\n",
       "    </tr>\n",
       "    <tr>\n",
       "      <th>75%</th>\n",
       "      <td>682.00000</td>\n",
       "      <td>631.000000</td>\n",
       "      <td>4.000000</td>\n",
       "      <td>8.882600e+08</td>\n",
       "    </tr>\n",
       "    <tr>\n",
       "      <th>max</th>\n",
       "      <td>943.00000</td>\n",
       "      <td>1682.000000</td>\n",
       "      <td>5.000000</td>\n",
       "      <td>8.932866e+08</td>\n",
       "    </tr>\n",
       "  </tbody>\n",
       "</table>\n",
       "</div>"
      ],
      "text/plain": [
       "            user_id        item_id         rating     timestamp\n",
       "count  100000.00000  100000.000000  100000.000000  1.000000e+05\n",
       "mean      462.48475     425.530130       3.529860  8.835289e+08\n",
       "std       266.61442     330.798356       1.125674  5.343856e+06\n",
       "min         1.00000       1.000000       1.000000  8.747247e+08\n",
       "25%       254.00000     175.000000       3.000000  8.794487e+08\n",
       "50%       447.00000     322.000000       4.000000  8.828269e+08\n",
       "75%       682.00000     631.000000       4.000000  8.882600e+08\n",
       "max       943.00000    1682.000000       5.000000  8.932866e+08"
      ]
     },
     "execution_count": 280,
     "metadata": {},
     "output_type": "execute_result"
    }
   ],
   "source": [
    "ratings.describe()"
   ]
  },
  {
   "cell_type": "code",
   "execution_count": 281,
   "metadata": {},
   "outputs": [
    {
     "name": "stdout",
     "output_type": "stream",
     "text": [
      "<class 'pandas.core.frame.DataFrame'>\n",
      "RangeIndex: 1682 entries, 0 to 1681\n",
      "Data columns (total 24 columns):\n",
      " #   Column              Non-Null Count  Dtype  \n",
      "---  ------              --------------  -----  \n",
      " 0   movie_id            1682 non-null   int64  \n",
      " 1   title               1682 non-null   object \n",
      " 2   release_date        1681 non-null   object \n",
      " 3   video_release_date  0 non-null      float64\n",
      " 4   imdb_url            1679 non-null   object \n",
      " 5   unknown             1682 non-null   int64  \n",
      " 6   Action              1682 non-null   int64  \n",
      " 7   Adventure           1682 non-null   int64  \n",
      " 8   Animation           1682 non-null   int64  \n",
      " 9   Children            1682 non-null   int64  \n",
      " 10  Comedy              1682 non-null   int64  \n",
      " 11  Crime               1682 non-null   int64  \n",
      " 12  Documentary         1682 non-null   int64  \n",
      " 13  Drama               1682 non-null   int64  \n",
      " 14  Fantasy             1682 non-null   int64  \n",
      " 15  Film-Noir           1682 non-null   int64  \n",
      " 16  Horror              1682 non-null   int64  \n",
      " 17  Musical             1682 non-null   int64  \n",
      " 18  Mystery             1682 non-null   int64  \n",
      " 19  Romance             1682 non-null   int64  \n",
      " 20  Sci-Fi              1682 non-null   int64  \n",
      " 21  Thriller            1682 non-null   int64  \n",
      " 22  War                 1682 non-null   int64  \n",
      " 23  Western             1682 non-null   int64  \n",
      "dtypes: float64(1), int64(20), object(3)\n",
      "memory usage: 315.5+ KB\n"
     ]
    }
   ],
   "source": [
    "movies.info()"
   ]
  },
  {
   "cell_type": "code",
   "execution_count": 282,
   "metadata": {},
   "outputs": [
    {
     "data": {
      "text/html": [
       "<div>\n",
       "<style scoped>\n",
       "    .dataframe tbody tr th:only-of-type {\n",
       "        vertical-align: middle;\n",
       "    }\n",
       "\n",
       "    .dataframe tbody tr th {\n",
       "        vertical-align: top;\n",
       "    }\n",
       "\n",
       "    .dataframe thead th {\n",
       "        text-align: right;\n",
       "    }\n",
       "</style>\n",
       "<table border=\"1\" class=\"dataframe\">\n",
       "  <thead>\n",
       "    <tr style=\"text-align: right;\">\n",
       "      <th></th>\n",
       "      <th>movie_id</th>\n",
       "      <th>video_release_date</th>\n",
       "      <th>unknown</th>\n",
       "      <th>Action</th>\n",
       "      <th>Adventure</th>\n",
       "      <th>Animation</th>\n",
       "      <th>Children</th>\n",
       "      <th>Comedy</th>\n",
       "      <th>Crime</th>\n",
       "      <th>Documentary</th>\n",
       "      <th>...</th>\n",
       "      <th>Fantasy</th>\n",
       "      <th>Film-Noir</th>\n",
       "      <th>Horror</th>\n",
       "      <th>Musical</th>\n",
       "      <th>Mystery</th>\n",
       "      <th>Romance</th>\n",
       "      <th>Sci-Fi</th>\n",
       "      <th>Thriller</th>\n",
       "      <th>War</th>\n",
       "      <th>Western</th>\n",
       "    </tr>\n",
       "  </thead>\n",
       "  <tbody>\n",
       "    <tr>\n",
       "      <th>count</th>\n",
       "      <td>1682.000000</td>\n",
       "      <td>0.0</td>\n",
       "      <td>1682.000000</td>\n",
       "      <td>1682.000000</td>\n",
       "      <td>1682.000000</td>\n",
       "      <td>1682.000000</td>\n",
       "      <td>1682.000000</td>\n",
       "      <td>1682.000000</td>\n",
       "      <td>1682.000000</td>\n",
       "      <td>1682.000000</td>\n",
       "      <td>...</td>\n",
       "      <td>1682.00000</td>\n",
       "      <td>1682.000000</td>\n",
       "      <td>1682.000000</td>\n",
       "      <td>1682.000000</td>\n",
       "      <td>1682.000000</td>\n",
       "      <td>1682.000000</td>\n",
       "      <td>1682.000000</td>\n",
       "      <td>1682.000000</td>\n",
       "      <td>1682.000000</td>\n",
       "      <td>1682.000000</td>\n",
       "    </tr>\n",
       "    <tr>\n",
       "      <th>mean</th>\n",
       "      <td>841.500000</td>\n",
       "      <td>NaN</td>\n",
       "      <td>0.001189</td>\n",
       "      <td>0.149227</td>\n",
       "      <td>0.080262</td>\n",
       "      <td>0.024970</td>\n",
       "      <td>0.072533</td>\n",
       "      <td>0.300238</td>\n",
       "      <td>0.064804</td>\n",
       "      <td>0.029727</td>\n",
       "      <td>...</td>\n",
       "      <td>0.01308</td>\n",
       "      <td>0.014269</td>\n",
       "      <td>0.054697</td>\n",
       "      <td>0.033294</td>\n",
       "      <td>0.036266</td>\n",
       "      <td>0.146849</td>\n",
       "      <td>0.060048</td>\n",
       "      <td>0.149227</td>\n",
       "      <td>0.042212</td>\n",
       "      <td>0.016052</td>\n",
       "    </tr>\n",
       "    <tr>\n",
       "      <th>std</th>\n",
       "      <td>485.695893</td>\n",
       "      <td>NaN</td>\n",
       "      <td>0.034473</td>\n",
       "      <td>0.356418</td>\n",
       "      <td>0.271779</td>\n",
       "      <td>0.156081</td>\n",
       "      <td>0.259445</td>\n",
       "      <td>0.458498</td>\n",
       "      <td>0.246253</td>\n",
       "      <td>0.169882</td>\n",
       "      <td>...</td>\n",
       "      <td>0.11365</td>\n",
       "      <td>0.118632</td>\n",
       "      <td>0.227455</td>\n",
       "      <td>0.179456</td>\n",
       "      <td>0.187008</td>\n",
       "      <td>0.354061</td>\n",
       "      <td>0.237646</td>\n",
       "      <td>0.356418</td>\n",
       "      <td>0.201131</td>\n",
       "      <td>0.125714</td>\n",
       "    </tr>\n",
       "    <tr>\n",
       "      <th>min</th>\n",
       "      <td>1.000000</td>\n",
       "      <td>NaN</td>\n",
       "      <td>0.000000</td>\n",
       "      <td>0.000000</td>\n",
       "      <td>0.000000</td>\n",
       "      <td>0.000000</td>\n",
       "      <td>0.000000</td>\n",
       "      <td>0.000000</td>\n",
       "      <td>0.000000</td>\n",
       "      <td>0.000000</td>\n",
       "      <td>...</td>\n",
       "      <td>0.00000</td>\n",
       "      <td>0.000000</td>\n",
       "      <td>0.000000</td>\n",
       "      <td>0.000000</td>\n",
       "      <td>0.000000</td>\n",
       "      <td>0.000000</td>\n",
       "      <td>0.000000</td>\n",
       "      <td>0.000000</td>\n",
       "      <td>0.000000</td>\n",
       "      <td>0.000000</td>\n",
       "    </tr>\n",
       "    <tr>\n",
       "      <th>25%</th>\n",
       "      <td>421.250000</td>\n",
       "      <td>NaN</td>\n",
       "      <td>0.000000</td>\n",
       "      <td>0.000000</td>\n",
       "      <td>0.000000</td>\n",
       "      <td>0.000000</td>\n",
       "      <td>0.000000</td>\n",
       "      <td>0.000000</td>\n",
       "      <td>0.000000</td>\n",
       "      <td>0.000000</td>\n",
       "      <td>...</td>\n",
       "      <td>0.00000</td>\n",
       "      <td>0.000000</td>\n",
       "      <td>0.000000</td>\n",
       "      <td>0.000000</td>\n",
       "      <td>0.000000</td>\n",
       "      <td>0.000000</td>\n",
       "      <td>0.000000</td>\n",
       "      <td>0.000000</td>\n",
       "      <td>0.000000</td>\n",
       "      <td>0.000000</td>\n",
       "    </tr>\n",
       "    <tr>\n",
       "      <th>50%</th>\n",
       "      <td>841.500000</td>\n",
       "      <td>NaN</td>\n",
       "      <td>0.000000</td>\n",
       "      <td>0.000000</td>\n",
       "      <td>0.000000</td>\n",
       "      <td>0.000000</td>\n",
       "      <td>0.000000</td>\n",
       "      <td>0.000000</td>\n",
       "      <td>0.000000</td>\n",
       "      <td>0.000000</td>\n",
       "      <td>...</td>\n",
       "      <td>0.00000</td>\n",
       "      <td>0.000000</td>\n",
       "      <td>0.000000</td>\n",
       "      <td>0.000000</td>\n",
       "      <td>0.000000</td>\n",
       "      <td>0.000000</td>\n",
       "      <td>0.000000</td>\n",
       "      <td>0.000000</td>\n",
       "      <td>0.000000</td>\n",
       "      <td>0.000000</td>\n",
       "    </tr>\n",
       "    <tr>\n",
       "      <th>75%</th>\n",
       "      <td>1261.750000</td>\n",
       "      <td>NaN</td>\n",
       "      <td>0.000000</td>\n",
       "      <td>0.000000</td>\n",
       "      <td>0.000000</td>\n",
       "      <td>0.000000</td>\n",
       "      <td>0.000000</td>\n",
       "      <td>1.000000</td>\n",
       "      <td>0.000000</td>\n",
       "      <td>0.000000</td>\n",
       "      <td>...</td>\n",
       "      <td>0.00000</td>\n",
       "      <td>0.000000</td>\n",
       "      <td>0.000000</td>\n",
       "      <td>0.000000</td>\n",
       "      <td>0.000000</td>\n",
       "      <td>0.000000</td>\n",
       "      <td>0.000000</td>\n",
       "      <td>0.000000</td>\n",
       "      <td>0.000000</td>\n",
       "      <td>0.000000</td>\n",
       "    </tr>\n",
       "    <tr>\n",
       "      <th>max</th>\n",
       "      <td>1682.000000</td>\n",
       "      <td>NaN</td>\n",
       "      <td>1.000000</td>\n",
       "      <td>1.000000</td>\n",
       "      <td>1.000000</td>\n",
       "      <td>1.000000</td>\n",
       "      <td>1.000000</td>\n",
       "      <td>1.000000</td>\n",
       "      <td>1.000000</td>\n",
       "      <td>1.000000</td>\n",
       "      <td>...</td>\n",
       "      <td>1.00000</td>\n",
       "      <td>1.000000</td>\n",
       "      <td>1.000000</td>\n",
       "      <td>1.000000</td>\n",
       "      <td>1.000000</td>\n",
       "      <td>1.000000</td>\n",
       "      <td>1.000000</td>\n",
       "      <td>1.000000</td>\n",
       "      <td>1.000000</td>\n",
       "      <td>1.000000</td>\n",
       "    </tr>\n",
       "  </tbody>\n",
       "</table>\n",
       "<p>8 rows × 21 columns</p>\n",
       "</div>"
      ],
      "text/plain": [
       "          movie_id  video_release_date      unknown       Action    Adventure  \\\n",
       "count  1682.000000                 0.0  1682.000000  1682.000000  1682.000000   \n",
       "mean    841.500000                 NaN     0.001189     0.149227     0.080262   \n",
       "std     485.695893                 NaN     0.034473     0.356418     0.271779   \n",
       "min       1.000000                 NaN     0.000000     0.000000     0.000000   \n",
       "25%     421.250000                 NaN     0.000000     0.000000     0.000000   \n",
       "50%     841.500000                 NaN     0.000000     0.000000     0.000000   \n",
       "75%    1261.750000                 NaN     0.000000     0.000000     0.000000   \n",
       "max    1682.000000                 NaN     1.000000     1.000000     1.000000   \n",
       "\n",
       "         Animation     Children       Comedy        Crime  Documentary  ...  \\\n",
       "count  1682.000000  1682.000000  1682.000000  1682.000000  1682.000000  ...   \n",
       "mean      0.024970     0.072533     0.300238     0.064804     0.029727  ...   \n",
       "std       0.156081     0.259445     0.458498     0.246253     0.169882  ...   \n",
       "min       0.000000     0.000000     0.000000     0.000000     0.000000  ...   \n",
       "25%       0.000000     0.000000     0.000000     0.000000     0.000000  ...   \n",
       "50%       0.000000     0.000000     0.000000     0.000000     0.000000  ...   \n",
       "75%       0.000000     0.000000     1.000000     0.000000     0.000000  ...   \n",
       "max       1.000000     1.000000     1.000000     1.000000     1.000000  ...   \n",
       "\n",
       "          Fantasy    Film-Noir       Horror      Musical      Mystery  \\\n",
       "count  1682.00000  1682.000000  1682.000000  1682.000000  1682.000000   \n",
       "mean      0.01308     0.014269     0.054697     0.033294     0.036266   \n",
       "std       0.11365     0.118632     0.227455     0.179456     0.187008   \n",
       "min       0.00000     0.000000     0.000000     0.000000     0.000000   \n",
       "25%       0.00000     0.000000     0.000000     0.000000     0.000000   \n",
       "50%       0.00000     0.000000     0.000000     0.000000     0.000000   \n",
       "75%       0.00000     0.000000     0.000000     0.000000     0.000000   \n",
       "max       1.00000     1.000000     1.000000     1.000000     1.000000   \n",
       "\n",
       "           Romance       Sci-Fi     Thriller          War      Western  \n",
       "count  1682.000000  1682.000000  1682.000000  1682.000000  1682.000000  \n",
       "mean      0.146849     0.060048     0.149227     0.042212     0.016052  \n",
       "std       0.354061     0.237646     0.356418     0.201131     0.125714  \n",
       "min       0.000000     0.000000     0.000000     0.000000     0.000000  \n",
       "25%       0.000000     0.000000     0.000000     0.000000     0.000000  \n",
       "50%       0.000000     0.000000     0.000000     0.000000     0.000000  \n",
       "75%       0.000000     0.000000     0.000000     0.000000     0.000000  \n",
       "max       1.000000     1.000000     1.000000     1.000000     1.000000  \n",
       "\n",
       "[8 rows x 21 columns]"
      ]
     },
     "execution_count": 282,
     "metadata": {},
     "output_type": "execute_result"
    }
   ],
   "source": [
    "movies.describe()"
   ]
  },
  {
   "cell_type": "code",
   "execution_count": 283,
   "metadata": {},
   "outputs": [
    {
     "name": "stdout",
     "output_type": "stream",
     "text": [
      "Jumlah ratings: 100,000\n",
      "Jumlah film: 1,682\n",
      "Jumlah pengguna unik: 943\n",
      "Rating range: 1 - 5\n"
     ]
    }
   ],
   "source": [
    "# Informasi dataset\n",
    "print(f\"Jumlah ratings: {len(ratings):,}\")\n",
    "print(f\"Jumlah film: {len(movies):,}\")\n",
    "print(f\"Jumlah pengguna unik: {ratings['user_id'].nunique():,}\")\n",
    "print(f\"Rating range: {ratings['rating'].min()} - {ratings['rating'].max()}\")"
   ]
  },
  {
   "cell_type": "code",
   "execution_count": 284,
   "metadata": {},
   "outputs": [
    {
     "name": "stdout",
     "output_type": "stream",
     "text": [
      "\n",
      "Distribusi Rating:\n",
      "Rating 1: 6,110 (6.1%)\n",
      "Rating 2: 11,370 (11.4%)\n",
      "Rating 3: 27,145 (27.1%)\n",
      "Rating 4: 34,174 (34.2%)\n",
      "Rating 5: 21,201 (21.2%)\n"
     ]
    }
   ],
   "source": [
    "# Distribusi rating\n",
    "rating_dist = ratings['rating'].value_counts().sort_index()\n",
    "print(\"\\nDistribusi Rating:\")\n",
    "for rating, count in rating_dist.items():\n",
    "    print(f\"Rating {rating}: {count:,} ({count/len(ratings)*100:.1f}%)\")"
   ]
  },
  {
   "cell_type": "code",
   "execution_count": 285,
   "metadata": {},
   "outputs": [
    {
     "name": "stdout",
     "output_type": "stream",
     "text": [
      "\n",
      "Top 10 Genre Terpopuler:\n",
      " 1. Drama: 725 film\n",
      " 2. Comedy: 505 film\n",
      " 3. Action: 251 film\n",
      " 4. Thriller: 251 film\n",
      " 5. Romance: 247 film\n",
      " 6. Adventure: 135 film\n",
      " 7. Children: 122 film\n",
      " 8. Crime: 109 film\n",
      " 9. Sci-Fi: 101 film\n",
      "10. Horror: 92 film\n"
     ]
    }
   ],
   "source": [
    "# Analisis genre\n",
    "genre_columns = genres[1:]  # Exclude 'unknown'\n",
    "genre_counts = movies[genre_columns].sum().sort_values(ascending=False)\n",
    "print(\"\\nTop 10 Genre Terpopuler:\")\n",
    "for i, (genre, count) in enumerate(genre_counts.head(10).items(), 1):\n",
    "    print(f\"{i:2d}. {genre}: {count} film\")"
   ]
  },
  {
   "cell_type": "code",
   "execution_count": 286,
   "metadata": {},
   "outputs": [
    {
     "data": {
      "image/png": "[encoded data removed]",
      "text/plain": [
       "<Figure size 1200x400 with 2 Axes>"
      ]
     },
     "metadata": {},
     "output_type": "display_data"
    }
   ],
   "source": [
    "# Visualisasi distribusi rating\n",
    "plt.figure(figsize=(12, 4))\n",
    "\n",
    "plt.subplot(1, 2, 1)\n",
    "rating_dist.plot(kind='bar', color='skyblue', alpha=0.8)\n",
    "plt.title('Distribusi Rating')\n",
    "plt.xlabel('Rating')\n",
    "plt.ylabel('Jumlah')\n",
    "plt.xticks(rotation=0)\n",
    "\n",
    "plt.subplot(1, 2, 2)\n",
    "genre_counts.head(8).plot(kind='bar', color='lightcoral', alpha=0.8)\n",
    "plt.title('Top 8 Genre Terpopuler')\n",
    "plt.xlabel('Genre')\n",
    "plt.ylabel('Jumlah Film')\n",
    "plt.xticks(rotation=45)\n",
    "\n",
    "plt.tight_layout()\n",
    "plt.savefig('eda_analysis.png', dpi=300, bbox_inches='tight')\n",
    "plt.show()"
   ]
  },
  {
   "cell_type": "markdown",
   "metadata": {},
   "source": [
    "## Data Preparation"
   ]
  },
  {
   "cell_type": "code",
   "execution_count": 287,
   "metadata": {},
   "outputs": [],
   "source": [
    "# Merge data untuk analisis lengkap\n",
    "movie_ratings = pd.merge(ratings, movies[['movie_id', 'title'] + genre_columns], \n",
    "                        left_on='item_id', right_on='movie_id')"
   ]
  },
  {
   "cell_type": "code",
   "execution_count": 288,
   "metadata": {},
   "outputs": [],
   "source": [
    "# Membuat genre string untuk content-based filtering\n",
    "movies['genre_string'] = ''\n",
    "for idx, row in movies.iterrows():\n",
    "    active_genres = []\n",
    "    for genre in genre_columns:\n",
    "        if row[genre] == 1:\n",
    "            active_genres.append(genre)\n",
    "    movies.at[idx, 'genre_string'] = ' '.join(active_genres)"
   ]
  },
  {
   "cell_type": "code",
   "execution_count": 289,
   "metadata": {},
   "outputs": [
    {
     "name": "stdout",
     "output_type": "stream",
     "text": [
      "Film dengan genre: 1,680\n",
      "Film tanpa genre: 2\n"
     ]
    }
   ],
   "source": [
    "# Statistik film dengan genre\n",
    "movies_with_genres = movies[movies['genre_string'] != ''].copy()\n",
    "print(f\"Film dengan genre: {len(movies_with_genres):,}\")\n",
    "print(f\"Film tanpa genre: {len(movies) - len(movies_with_genres):,}\")"
   ]
  },
  {
   "cell_type": "code",
   "execution_count": 290,
   "metadata": {},
   "outputs": [
    {
     "name": "stdout",
     "output_type": "stream",
     "text": [
      "Training data: 80,000\n",
      "Testing data: 20,000\n"
     ]
    }
   ],
   "source": [
    "# Split data untuk evaluasi\n",
    "train_data, test_data = train_test_split(ratings, test_size=0.2, random_state=42)\n",
    "print(f\"Training data: {len(train_data):,}\")\n",
    "print(f\"Testing data: {len(test_data):,}\")"
   ]
  },
  {
   "cell_type": "code",
   "execution_count": 291,
   "metadata": {},
   "outputs": [
    {
     "name": "stdout",
     "output_type": "stream",
     "text": [
      "Test User-item matrix shape: (940, 1411)\n"
     ]
    }
   ],
   "source": [
    "# Membuat user-item matrix untuk data pengujian\n",
    "test_user_item_matrix = test_data.pivot(index='user_id', columns='item_id', values='rating').fillna(0)\n",
    "print(f\"Test User-item matrix shape: {test_user_item_matrix.shape}\")"
   ]
  },
  {
   "cell_type": "code",
   "execution_count": 292,
   "metadata": {},
   "outputs": [
    {
     "name": "stdout",
     "output_type": "stream",
     "text": [
      "Train User-item matrix shape: (943, 1653)\n"
     ]
    }
   ],
   "source": [
    "# Membuat user-item matrix untuk collaborative filtering\n",
    "train_user_item_matrix = train_data.pivot(index='user_id', columns='item_id', values='rating').fillna(0)\n",
    "print(f\"Train User-item matrix shape: {train_user_item_matrix.shape}\")"
   ]
  },
  {
   "cell_type": "code",
   "execution_count": 293,
   "metadata": {},
   "outputs": [
    {
     "name": "stdout",
     "output_type": "stream",
     "text": [
      "Sparsity matrix user-item: 93.7%\n",
      "Rata-rata rating per pengguna: 106\n",
      "Variasi rating terendah per user: 20\n",
      "Variasi rating tertinggi per user: 737\n"
     ]
    }
   ],
   "source": [
    "user_item_matrix = ratings.pivot(index='user_id', columns='item_id', values='rating').fillna(0)\n",
    "\n",
    "# Tambahan informasi sparsity dan rata-rata rating per pengguna\n",
    "print(f\"Sparsity matrix user-item: {(user_item_matrix == 0).sum().sum() / (user_item_matrix.shape[0] * user_item_matrix.shape[1]) * 100:.1f}%\")\n",
    "ratings_per_user = ratings.groupby('user_id')['rating'].count()\n",
    "print(f\"Rata-rata rating per pengguna: {ratings_per_user.mean():.0f}\\nVariasi rating terendah per user: {ratings_per_user.min()}\\nVariasi rating tertinggi per user: {ratings_per_user.max()}\")"
   ]
  },
  {
   "cell_type": "markdown",
   "metadata": {},
   "source": [
    "## Modeling"
   ]
  },
  {
   "cell_type": "markdown",
   "metadata": {},
   "source": [
    "Content-Based Filtering"
   ]
  },
  {
   "cell_type": "code",
   "execution_count": 294,
   "metadata": {},
   "outputs": [],
   "source": [
    "# TF-IDF Vectorization untuk genre\n",
    "tfidf = TfidfVectorizer(stop_words='english')\n",
    "tfidf_matrix = tfidf.fit_transform(movies_with_genres['genre_string'])"
   ]
  },
  {
   "cell_type": "code",
   "execution_count": 295,
   "metadata": {},
   "outputs": [],
   "source": [
    "# Menghitung cosine similarity\n",
    "cosine_sim = cosine_similarity(tfidf_matrix, tfidf_matrix)"
   ]
  },
  {
   "cell_type": "code",
   "execution_count": 296,
   "metadata": {},
   "outputs": [],
   "source": [
    "# Membuat mapping judul ke index\n",
    "indices = pd.Series(movies_with_genres.index, index=movies_with_genres['title']).drop_duplicates()"
   ]
  },
  {
   "cell_type": "code",
   "execution_count": 297,
   "metadata": {},
   "outputs": [],
   "source": [
    "# Fungsi rekomendasi content-based\n",
    "def get_content_recommendations(title, cosine_sim=cosine_sim, df=movies_with_genres, top_n=10):\n",
    "    \"\"\"\n",
    "    Memberikan rekomendasi berdasarkan content similarity\n",
    "    \"\"\"\n",
    "    try:\n",
    "        # Pastikan judul ada di index\n",
    "        if title not in indices:\n",
    "            return f\"Film '{title}' tidak ditemukan dalam dataset.\"\n",
    "\n",
    "        # Ambil index film\n",
    "        idx = indices[title]\n",
    "\n",
    "        # Ambil vektor similarity untuk film tersebut (pastikan 1D array)\n",
    "        sim_scores = list(enumerate(cosine_sim[idx]))\n",
    "\n",
    "        # Urutkan berdasarkan similarity score (descending)\n",
    "        sim_scores = sorted(sim_scores, key=lambda x: float(x[1]), reverse=True)\n",
    "\n",
    "        # Ambil top N (kecuali diri sendiri di posisi pertama)\n",
    "        sim_scores = sim_scores[1:top_n + 1]\n",
    "\n",
    "        # Ambil index film yang disarankan\n",
    "        movie_indices = [i[0] for i in sim_scores]\n",
    "\n",
    "        # Ambil data film\n",
    "        recommendations = df.iloc[movie_indices][['title', 'genre_string']].copy()\n",
    "        recommendations['similarity_score'] = [float(score[1]) for score in sim_scores]\n",
    "\n",
    "        return recommendations\n",
    "\n",
    "    except Exception as e:\n",
    "        return f\"Terjadi error saat mencari rekomendasi untuk '{title}': {str(e)}\""
   ]
  },
  {
   "cell_type": "code",
   "execution_count": 298,
   "metadata": {},
   "outputs": [
    {
     "name": "stdout",
     "output_type": "stream",
     "text": [
      "\n",
      "Rekomendasi Content-Based untuk 'Toy Story (1995)':\n",
      "1. Aladdin and the King of Thieves (1996)\n",
      "   Genre: Animation Children Comedy\n",
      "   Similarity: 1.000\n",
      "\n",
      "2. Aristocats, The (1970)\n",
      "   Genre: Animation Children\n",
      "   Similarity: 0.937\n",
      "\n",
      "3. Pinocchio (1940)\n",
      "   Genre: Animation Children\n",
      "   Similarity: 0.937\n",
      "\n",
      "4. Sword in the Stone, The (1963)\n",
      "   Genre: Animation Children\n",
      "   Similarity: 0.937\n",
      "\n",
      "5. Fox and the Hound, The (1981)\n",
      "   Genre: Animation Children\n",
      "   Similarity: 0.937\n",
      "\n"
     ]
    }
   ],
   "source": [
    "# Test rekomendasi content-based\n",
    "test_movie = \"Toy Story (1995)\"\n",
    "print(f\"\\nRekomendasi Content-Based untuk '{test_movie}':\")\n",
    "content_recs = get_content_recommendations(test_movie, top_n=5)\n",
    "if isinstance(content_recs, pd.DataFrame):\n",
    "    for i, (_, row) in enumerate(content_recs.iterrows(), 1):\n",
    "        print(f\"{i}. {row['title']}\")\n",
    "        print(f\"   Genre: {row['genre_string']}\")\n",
    "        print(f\"   Similarity: {row['similarity_score']:.3f}\")\n",
    "        print()\n",
    "else:\n",
    "    print(content_recs)"
   ]
  },
  {
   "cell_type": "markdown",
   "metadata": {},
   "source": [
    "Collaborative Filtering"
   ]
  },
  {
   "cell_type": "code",
   "execution_count": 299,
   "metadata": {},
   "outputs": [],
   "source": [
    "# Menggunakan SVD untuk matrix factorization\n",
    "svd = TruncatedSVD(n_components=50, random_state=42)\n",
    "user_factors = svd.fit_transform(user_item_matrix)\n",
    "item_factors = svd.components_"
   ]
  },
  {
   "cell_type": "code",
   "execution_count": 300,
   "metadata": {},
   "outputs": [],
   "source": [
    "# Rekonstruksi matrix\n",
    "predicted_ratings = np.dot(user_factors, item_factors)\n",
    "predicted_ratings_df = pd.DataFrame(predicted_ratings, \n",
    "                                  index=user_item_matrix.index, \n",
    "                                  columns=user_item_matrix.columns)"
   ]
  },
  {
   "cell_type": "code",
   "execution_count": 301,
   "metadata": {},
   "outputs": [],
   "source": [
    "# Fungsi rekomendasi collaborative filtering\n",
    "def get_collaborative_recommendations(user_id, predicted_ratings_df=predicted_ratings_df,\n",
    "                                    train_user_item_matrix=train_user_item_matrix,\n",
    "                                    movies_df=movies, top_n=10):\n",
    "    \n",
    "    if user_id not in predicted_ratings_df.index:\n",
    "        return f\"User ID {user_id} tidak ditemukan dalam model training.\"\n",
    "\n",
    "    user_predictions = predicted_ratings_df.loc[user_id]\n",
    "\n",
    "    # Ambil film yang belum dirating OLEH USER DI DATA TRAINING\n",
    "    all_movie_ids = movies_df['movie_id'].unique()\n",
    "    rated_movies_in_train = train_user_item_matrix.loc[user_id][train_user_item_matrix.loc[user_id] > 0].index.tolist()\n",
    "    unrated_movies_ids = [mid for mid in all_movie_ids if mid not in rated_movies_in_train]\n",
    "\n",
    "    # Filter prediksi untuk film yang belum dirating\n",
    "    recommendations_for_unrated = user_predictions.reindex(unrated_movies_ids, fill_value=0)\n",
    "\n",
    "    # Sort berdasarkan predicted rating\n",
    "    recommendations_for_unrated = recommendations_for_unrated.sort_values(ascending=False).head(top_n)\n",
    "\n",
    "    # Merge dengan informasi film\n",
    "    rec_with_titles = []\n",
    "    for movie_id, pred_rating in recommendations_for_unrated.items():\n",
    "        movie_info = movies_df[movies_df['movie_id'] == movie_id]\n",
    "        if not movie_info.empty:\n",
    "            rec_with_titles.append({\n",
    "                'movie_id': movie_id,\n",
    "                'title': movie_info.iloc[0]['title'],\n",
    "                'predicted_rating': pred_rating\n",
    "            })\n",
    "\n",
    "    return pd.DataFrame(rec_with_titles)"
   ]
  },
  {
   "cell_type": "code",
   "execution_count": 302,
   "metadata": {},
   "outputs": [
    {
     "name": "stdout",
     "output_type": "stream",
     "text": [
      "\n",
      "Rekomendasi Collaborative Filtering untuk User 1:\n",
      "1. Fargo (1996)\n",
      "   Predicted Rating: 6.40\n",
      "\n",
      "2. Toy Story (1995)\n",
      "   Predicted Rating: 5.11\n",
      "\n",
      "3. Blues Brothers, The (1980)\n",
      "   Predicted Rating: 4.63\n",
      "\n",
      "4. Fish Called Wanda, A (1988)\n",
      "   Predicted Rating: 4.56\n",
      "\n",
      "5. Reservoir Dogs (1992)\n",
      "   Predicted Rating: 4.39\n",
      "\n"
     ]
    }
   ],
   "source": [
    "# Test rekomendasi collaborative filtering\n",
    "test_user = 1\n",
    "print(f\"\\nRekomendasi Collaborative Filtering untuk User {test_user}:\")\n",
    "collab_recs = get_collaborative_recommendations(test_user, top_n=5)\n",
    "if isinstance(collab_recs, pd.DataFrame):\n",
    "    for i, (_, row) in enumerate(collab_recs.iterrows(), 1):\n",
    "        print(f\"{i}. {row['title']}\")\n",
    "        print(f\"   Predicted Rating: {row['predicted_rating']:.2f}\")\n",
    "        print()\n",
    "else:\n",
    "    print(collab_recs)"
   ]
  },
  {
   "cell_type": "markdown",
   "metadata": {},
   "source": [
    "## Evaluation"
   ]
  },
  {
   "cell_type": "code",
   "execution_count": 303,
   "metadata": {},
   "outputs": [],
   "source": [
    "# Evaluasi Content-Based FilterinG\n",
    "def evaluate_content_based(sample_titles, top_n=10):\n",
    "    similarity_scores = []\n",
    "\n",
    "    for title in sample_titles:\n",
    "        recs = get_content_recommendations(title, top_n=top_n)\n",
    "        if isinstance(recs, pd.DataFrame):\n",
    "            similarity_scores.extend(recs['similarity_score'].values)\n",
    "\n",
    "    if similarity_scores:\n",
    "        mean_score = np.mean(similarity_scores)\n",
    "        coverage = (len(similarity_scores) / (len(sample_titles) * top_n)) * 100\n",
    "        return round(mean_score, 4), round(coverage, 1)\n",
    "    else:\n",
    "        return None, 0.0"
   ]
  },
  {
   "cell_type": "code",
   "execution_count": 304,
   "metadata": {},
   "outputs": [],
   "source": [
    "# Evaluasi Collaborative Filtering - RMSE & MAE\n",
    "def evaluate_collaborative_rmse(test_user_item_matrix, predicted_ratings_df):\n",
    "    actuals, predictions = [], []\n",
    "\n",
    "    for user in test_user_item_matrix.index:\n",
    "        for item in test_user_item_matrix.columns:\n",
    "            actual_rating = test_user_item_matrix.loc[user, item]\n",
    "            if actual_rating > 0:\n",
    "                actuals.append(actual_rating)\n",
    "                predictions.append(predicted_ratings_df.loc[user, item])\n",
    "\n",
    "    if actuals:\n",
    "        rmse = sqrt(mean_squared_error(actuals, predictions))\n",
    "        mae = mean_absolute_error(actuals, predictions)\n",
    "        return round(rmse, 4), round(mae, 4)\n",
    "    else:\n",
    "        return None, None"
   ]
  },
  {
   "cell_type": "code",
   "execution_count": 305,
   "metadata": {},
   "outputs": [],
   "source": [
    "# Evaluasi Collaborative Filtering - Precision@K\n",
    "def precision_at_k(user_id, predicted_ratings_df, test_user_item_matrix, k=10, threshold=4.0):\n",
    "    if user_id not in predicted_ratings_df.index:\n",
    "        return None\n",
    "\n",
    "    user_preds = predicted_ratings_df.loc[user_id]\n",
    "    user_actuals = test_user_item_matrix.loc[user_id]\n",
    "\n",
    "    relevant_items = user_actuals[user_actuals >= threshold].index.tolist()\n",
    "    test_items = user_actuals[user_actuals > 0].index.tolist()\n",
    "\n",
    "    if not test_items:\n",
    "        return None\n",
    "\n",
    "    top_k_items = user_preds[test_items].sort_values(ascending=False).head(k).index.tolist()\n",
    "    num_relevant = len(set(top_k_items) & set(relevant_items))\n",
    "\n",
    "    return num_relevant / k\n",
    "\n",
    "def evaluate_precision_at_k(predicted_ratings_df, test_user_item_matrix, k=5, threshold=4.0):\n",
    "    precisions = []\n",
    "\n",
    "    for user_id in test_user_item_matrix.index:\n",
    "        p_at_k = precision_at_k(user_id, predicted_ratings_df, test_user_item_matrix, k=k, threshold=threshold)\n",
    "        if p_at_k is not None:\n",
    "            precisions.append(p_at_k)\n",
    "\n",
    "    return round(np.mean(precisions), 4) if precisions else None"
   ]
  },
  {
   "cell_type": "code",
   "execution_count": 306,
   "metadata": {},
   "outputs": [
    {
     "name": "stdout",
     "output_type": "stream",
     "text": [
      "\n",
      "Ringkasan Performa:\n",
      "- RMSE Collaborative       : 1.850\n",
      "- MAE Collaborative        : 1.536\n",
      "- Precision@5              : 0.717\n",
      "- Content-Based Mean Sim   : 0.980\n",
      "- Coverage Content-Based   : 90.0%\n"
     ]
    }
   ],
   "source": [
    "sample_movies = movies_with_genres['title'].sample(10, random_state=42).tolist()\n",
    "\n",
    "# Content-Based\n",
    "content_mean_score, coverage_content = evaluate_content_based(sample_movies, top_n=5)\n",
    "\n",
    "# Collaborative Filtering\n",
    "rmse_score, mae_score = evaluate_collaborative_rmse(test_user_item_matrix, predicted_ratings_df)\n",
    "avg_precision = evaluate_precision_at_k(predicted_ratings_df, test_user_item_matrix, k=5, threshold=4.0)\n",
    "\n",
    "print(\"\\nRingkasan Performa:\")\n",
    "print(f\"- RMSE Collaborative       : {rmse_score:.3f}\" if rmse_score else \"- RMSE: Tidak tersedia\")\n",
    "print(f\"- MAE Collaborative        : {mae_score:.3f}\" if mae_score else \"- MAE: Tidak tersedia\")\n",
    "print(f\"- Precision@5              : {avg_precision:.3f}\" if avg_precision else \"- Precision@5: Tidak tersedia\")\n",
    "print(f\"- Content-Based Mean Sim   : {content_mean_score:.3f}\" if content_mean_score else \"- Similarity: Tidak tersedia\")\n",
    "print(f\"- Coverage Content-Based   : {coverage_content:.1f}%\")"
   ]
  },
  {
   "cell_type": "markdown",
   "metadata": {},
   "source": [
    "## Inferensi"
   ]
  },
  {
   "cell_type": "code",
   "execution_count": 307,
   "metadata": {},
   "outputs": [
    {
     "name": "stdout",
     "output_type": "stream",
     "text": [
      "\n",
      "Film dengan rating tertinggi dari User 1: Cinema Paradiso (1988)\n",
      "\n",
      "Rekomendasi Content-Based:\n",
      "1. Wings of Desire (1987) (Sim: 1.000)\n",
      "2. Manhattan (1979) (Sim: 1.000)\n",
      "3. American President, The (1995) (Sim: 1.000)\n",
      "\n",
      "Rekomendasi Collaborative:\n",
      "1. Fargo (1996) (Pred: 6.40)\n",
      "2. Toy Story (1995) (Pred: 5.11)\n",
      "3. Blues Brothers, The (1980) (Pred: 4.63)\n"
     ]
    }
   ],
   "source": [
    "# Content-based untuk user berdasarkan film favorit\n",
    "user_1_ratings = ratings[ratings['user_id'] == 1].sort_values('rating', ascending=False)\n",
    "if len(user_1_ratings) > 0:\n",
    "    fav_movie_id = user_1_ratings.iloc[0]['item_id']\n",
    "    fav_movie_title = movies[movies['movie_id'] == fav_movie_id]['title'].iloc[0]\n",
    "    \n",
    "    print(f\"\\nFilm dengan rating tertinggi dari User 1: {fav_movie_title}\")\n",
    "    \n",
    "    # Content-based recommendations\n",
    "    print(\"\\nRekomendasi Content-Based:\")\n",
    "    content_hybrid = get_content_recommendations(fav_movie_title, top_n=3)\n",
    "    if isinstance(content_hybrid, pd.DataFrame):\n",
    "        for i, (_, row) in enumerate(content_hybrid.iterrows(), 1):\n",
    "            print(f\"{i}. {row['title']} (Sim: {row['similarity_score']:.3f})\")\n",
    "\n",
    "# Collaborative recommendations\n",
    "print(\"\\nRekomendasi Collaborative:\")\n",
    "collab_hybrid = get_collaborative_recommendations(1, top_n=3)\n",
    "if isinstance(collab_hybrid, pd.DataFrame):\n",
    "    for i, (_, row) in enumerate(collab_hybrid.iterrows(), 1):\n",
    "        print(f\"{i}. {row['title']} (Pred: {row['predicted_rating']:.2f})\")"
   ]
  }
 ],
 "metadata": {
  "kernelspec": {
   "display_name": "main-ds",
   "language": "python",
   "name": "python3"
  },
  "language_info": {
   "codemirror_mode": {
    "name": "ipython",
    "version": 3
   },
   "file_extension": ".py",
   "mimetype": "text/x-python",
   "name": "python",
   "nbconvert_exporter": "python",
   "pygments_lexer": "ipython3",
   "version": "3.9.21"
  }
 },
 "nbformat": 4,
 "nbformat_minor": 2
}
